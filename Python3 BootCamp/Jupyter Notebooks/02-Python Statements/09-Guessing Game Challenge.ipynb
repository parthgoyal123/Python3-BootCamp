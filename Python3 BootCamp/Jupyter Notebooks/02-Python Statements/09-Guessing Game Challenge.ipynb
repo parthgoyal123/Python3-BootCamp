{
 "cells": [
  {
   "cell_type": "markdown",
   "metadata": {},
   "source": [
    "# Guessing Game Challenge\n",
    "\n",
    "Let's use `while` loops to create a guessing game.\n",
    "\n",
    "The Challenge:\n",
    "\n",
    "Write a program that picks a random integer from 1 to 100, and has players guess the number. The rules are:\n",
    "\n",
    "1. If a player's guess is less than 1 or greater than 100, say \"OUT OF BOUNDS\"\n",
    "2. On a player's first turn, if their guess is\n",
    " * within 10 of the number, return \"WARM!\"\n",
    " * further than 10 away from the number, return \"COLD!\"\n",
    "3. On all subsequent turns, if a guess is \n",
    " * closer to the number than the previous guess return \"WARMER!\"\n",
    " * farther from the number than the previous guess, return \"COLDER!\"\n",
    "4. When the player's guess equals the number, tell them they've guessed correctly *and* how many guesses it took!\n",
    "\n",
    "You can try this from scratch, or follow the steps outlined below. A separate Solution notebook has been provided. Good luck!\n"
   ]
  },
  {
   "cell_type": "markdown",
   "metadata": {},
   "source": [
    "#### First, pick a random integer from 1 to 100 using the random module and assign it to a variable\n",
    "\n",
    "Note: `random.randint(a,b)` returns a random integer in range `[a, b]`, including both end points."
   ]
  },
  {
   "cell_type": "code",
   "execution_count": null,
   "metadata": {},
   "outputs": [],
   "source": [
    "from random import randint\n",
    "random_integer = randint(1,101)\n",
    "print(random_integer)"
   ]
  },
  {
   "cell_type": "markdown",
   "metadata": {},
   "source": [
    "#### Next, print an introduction to the game and explain the rules"
   ]
  },
  {
   "cell_type": "code",
   "execution_count": 2,
   "metadata": {},
   "outputs": [
    {
     "name": "stdout",
     "output_type": "stream",
     "text": [
      "Make a guess b/w 1 and 100\n",
      "If your guess within 10, we tell you that your guess WARM; else if further than 10, then COLD\n",
      "Closer to the previous guess WARMER\n",
      "Farther from the previous guess COLDER\n",
      "If matched, I will tell you the number of guesses it took you\n"
     ]
    }
   ],
   "source": [
    "from random import randint\n",
    "random_integer = randint(1,101)\n",
    "print(random_integer)\n",
    "print('Make a guess b/w 1 and 100')\n",
    "print('If your guess within 10, we tell you that your guess WARM; else if further than 10, then COLD')\n",
    "print('Closer to the previous guess WARMER')\n",
    "print('Farther from the previous guess COLDER')\n",
    "print('If matched, I will tell you the number of guesses it took you')\n"
   ]
  },
  {
   "cell_type": "markdown",
   "metadata": {},
   "source": [
    "#### Create a list to store guesses\n",
    "\n",
    "Hint: zero is a good placeholder value. It's useful because it evaluates to \"False\""
   ]
  },
  {
   "cell_type": "code",
   "execution_count": 5,
   "metadata": {},
   "outputs": [],
   "source": [
    "guesses = []"
   ]
  },
  {
   "cell_type": "markdown",
   "metadata": {},
   "source": [
    "#### Write a `while` loop that asks for a valid guess. Test it a few times to make sure it works."
   ]
  },
  {
   "cell_type": "code",
   "execution_count": 6,
   "metadata": {},
   "outputs": [
    {
     "name": "stdout",
     "output_type": "stream",
     "text": [
      "Make a valid guess b/w 1 and 100: 145\n",
      "Not a valid guess\n",
      "Make a valid guess b/w 1 and 100: 100\n"
     ]
    }
   ],
   "source": [
    "while True:\n",
    "    guess = int(input('Make a valid guess b/w 1 and 100: '))\n",
    "    if(guess >=1 and guess<= 100):\n",
    "        guesses.append(guess)\n",
    "        break\n",
    "    else:\n",
    "        print('Not a valid guess')\n",
    "        continue\n",
    "    "
   ]
  },
  {
   "cell_type": "markdown",
   "metadata": {},
   "source": [
    "#### Write a `while` loop that compares the player's guess to our number. If the player guesses correctly, break from the loop. Otherwise, tell the player if they're warmer or colder, and continue asking for guesses.\n",
    "\n",
    "Some hints:\n",
    "* it may help to sketch out all possible combinations on paper first!\n",
    "* you can use the `abs()` function to find the positive difference between two numbers\n",
    "* if you append all new guesses to the list, then the previous guess is given as `guesses[-2]`"
   ]
  },
  {
   "cell_type": "code",
   "execution_count": null,
   "metadata": {},
   "outputs": [],
   "source": [
    "from random import randint\n",
    "random_integer = randint(1,101)\n",
    "print('----------- About the Game -----------')\n",
    "print('1. Make a guess b/w 1 and 100')\n",
    "print('2. If your guess within 10, we tell you that your guess WARM; else if further than 10, then COLD')\n",
    "print('3. Closer to the previous guess WARMER')\n",
    "print('4. Farther from the previous guess COLDER')\n",
    "print('5. If matched, I will tell you the number of guesses it took you')\n",
    "guesses = [0]\n",
    "while True:\n",
    "    guess = int(input('Make a valid guess b/w 1 and 100: '))\n",
    "    if(guess >=1 and guess<= 100):\n",
    "        guesses.append(guess)\n",
    "        if(guesses[-1] == random_integer):\n",
    "            print(f'CONGRATS!! you got the correct guess in {len(guesses) - 1}')\n",
    "            break\n",
    "        if(guesses[-2] == 0):\n",
    "            if(abs(guess - random_integer) <= 10):\n",
    "                print('Warm')\n",
    "            else:\n",
    "                print('Cold')\n",
    "        else:\n",
    "            if(abs(guess - random_integer) <= abs(guesses[-2] - random_integer)):\n",
    "                print('Warmer')\n",
    "            else:\n",
    "                print('Colder')\n",
    "    else:\n",
    "        print('Not a valid guess')"
   ]
  },
  {
   "cell_type": "markdown",
   "metadata": {},
   "source": [
    "That's it! You've just programmed your first game!\n",
    "\n",
    "In the next section we'll learn how to turn some of these repetitive actions into *functions* that can be called whenever we need them."
   ]
  },
  {
   "cell_type": "markdown",
   "metadata": {},
   "source": [
    "### Good Job!"
   ]
  },
  {
   "cell_type": "code",
   "execution_count": null,
   "metadata": {},
   "outputs": [],
   "source": []
  },
  {
   "cell_type": "code",
   "execution_count": null,
   "metadata": {},
   "outputs": [],
   "source": []
  },
  {
   "cell_type": "code",
   "execution_count": null,
   "metadata": {},
   "outputs": [],
   "source": []
  }
 ],
 "metadata": {
  "kernelspec": {
   "display_name": "Python 3",
   "language": "python",
   "name": "python3"
  },
  "language_info": {
   "codemirror_mode": {
    "name": "ipython",
    "version": 3
   },
   "file_extension": ".py",
   "mimetype": "text/x-python",
   "name": "python",
   "nbconvert_exporter": "python",
   "pygments_lexer": "ipython3",
   "version": "3.7.1"
  }
 },
 "nbformat": 4,
 "nbformat_minor": 2
}
